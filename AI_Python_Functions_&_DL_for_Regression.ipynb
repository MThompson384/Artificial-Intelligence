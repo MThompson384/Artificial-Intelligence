{
  "nbformat": 4,
  "nbformat_minor": 0,
  "metadata": {
    "colab": {
      "provenance": []
    },
    "kernelspec": {
      "name": "python3",
      "display_name": "Python 3"
    },
    "language_info": {
      "name": "python"
    }
  },
  "cells": [
    {
      "cell_type": "markdown",
      "source": [
        "# **AI Python Functions & DL for Regression**"
      ],
      "metadata": {
        "id": "YQg2x0v-khKW"
      }
    },
    {
      "cell_type": "markdown",
      "source": [
        "***Assignment 0: Writing a step function***"
      ],
      "metadata": {
        "id": "BEhkY5pZiN7m"
      }
    },
    {
      "cell_type": "code",
      "source": [
        "#Creating a step function from scratch\n",
        "import numpy as np\n",
        "\n",
        "def step(x):\n",
        "  return 1 if x > 0 else 0"
      ],
      "metadata": {
        "id": "0Qv5VMpBkl_Y"
      },
      "execution_count": null,
      "outputs": []
    },
    {
      "cell_type": "markdown",
      "source": [
        "**1-0-0**\n",
        "Use your step function with 10 as input and print:\"Step function of 10 is __.\"\n",
        "Replace the blank with the step function output"
      ],
      "metadata": {
        "id": "C68JBP7dlKHV"
      }
    },
    {
      "cell_type": "code",
      "source": [
        "print(f'Step function of 10 is {step(10)}')"
      ],
      "metadata": {
        "colab": {
          "base_uri": "https://localhost:8080/"
        },
        "id": "W4v0SmCdtzmr",
        "outputId": "464ccfdf-ac30-4544-af2a-b3ef1da85f39"
      },
      "execution_count": null,
      "outputs": [
        {
          "output_type": "stream",
          "name": "stdout",
          "text": [
            "Step function of 10 is 1\n"
          ]
        }
      ]
    },
    {
      "cell_type": "markdown",
      "source": [
        "**1-0-1**\n",
        "Use your step function with -5 as input and print:\"Step function of -5 is __.\"\n",
        "Replace the blank with the step function output"
      ],
      "metadata": {
        "id": "pWZ09JpVmDHN"
      }
    },
    {
      "cell_type": "code",
      "source": [
        "print(f'Step function of -5 is {step(-5)}')"
      ],
      "metadata": {
        "colab": {
          "base_uri": "https://localhost:8080/"
        },
        "id": "IOh19tETt1gW",
        "outputId": "e88d7217-030c-4f1b-ca89-588b15cea88c"
      },
      "execution_count": null,
      "outputs": [
        {
          "output_type": "stream",
          "name": "stdout",
          "text": [
            "Step function of -5 is 0\n"
          ]
        }
      ]
    },
    {
      "cell_type": "markdown",
      "source": [
        "**1-0-2**\n",
        "Use your step function with 0 as input and print:\"Step function of 0 is __.\"\n",
        "Replace the blank with the step function output"
      ],
      "metadata": {
        "id": "Fh6H2MoWmGAK"
      }
    },
    {
      "cell_type": "code",
      "source": [
        "print(f'Step function of 0 is {step(0)}')"
      ],
      "metadata": {
        "colab": {
          "base_uri": "https://localhost:8080/"
        },
        "id": "nZoHdxYLt53C",
        "outputId": "81260855-d805-4326-96ac-ae0554a37731"
      },
      "execution_count": null,
      "outputs": [
        {
          "output_type": "stream",
          "name": "stdout",
          "text": [
            "Step function of 0 is 0\n"
          ]
        }
      ]
    },
    {
      "cell_type": "markdown",
      "source": [
        "***Assignment 1-1: DL Regressor***\n",
        "\n",
        "This document is needed for this next part below is a link to download the file:\n",
        "\n",
        "[wine quality with category value.xlsx](https://docs.google.com/spreadsheets/d/1pdsXi9WiQgrIH2jcLxJGWiRKBbjZ7B-7/edit?usp=drive_link&ouid=107453580632822548614&rtpof=true&sd=true)"
      ],
      "metadata": {
        "id": "QfXNSn0jinKR"
      }
    },
    {
      "cell_type": "code",
      "source": [
        "import os\n",
        "os.environ['TF_CPP_MIN_LOG_LEVEL'] = '3'\n",
        "\n",
        "import random\n",
        "import numpy as np\n",
        "import tensorflow as tf\n",
        "\n",
        "random.seed(1693)\n",
        "np.random.seed(1693)\n",
        "tf.random.set_seed(1693)\n",
        "\n",
        "from tensorflow import keras\n",
        "from keras.models import Sequential\n",
        "from keras.layers import Dense\n",
        "\n",
        "import pandas as pd\n",
        "import sklearn as sk\n",
        "from sklearn.model_selection import train_test_split"
      ],
      "metadata": {
        "id": "uNQ83ubmwtjO"
      },
      "execution_count": null,
      "outputs": []
    },
    {
      "cell_type": "markdown",
      "source": [
        "**Step 1:** Load & Prep Dataframes\n",
        "\n",
        "We will use the 'wine quality with category value.xlsx' data file available in the file tree to the left.\n",
        "Load the dataset as a pandas dataframe.\n",
        "Explore the data dictionary using the Reference link in the right-side panel.\n",
        "We will build a model to predict \"quality\" as a numeric target"
      ],
      "metadata": {
        "id": "UQwkEBATjuar"
      }
    },
    {
      "cell_type": "code",
      "source": [
        "path = \"/content/wine quality with category value.xlsx\"\n",
        "data = pd.read_excel(path)\n",
        "\n",
        "print(data.head())"
      ],
      "metadata": {
        "colab": {
          "base_uri": "https://localhost:8080/"
        },
        "id": "4udFDysEyxvx",
        "outputId": "e8d53e1e-4970-496d-f8e8-4e69933d93ee"
      },
      "execution_count": null,
      "outputs": [
        {
          "output_type": "stream",
          "name": "stdout",
          "text": [
            "   fixed acidity  volatile acidity  citric acid  residual sugar  chlorides  \\\n",
            "0            7.0              0.27         0.36            20.7      0.045   \n",
            "1            6.3              0.30         0.34             1.6      0.049   \n",
            "2            8.1              0.28         0.40             6.9      0.050   \n",
            "3            7.2              0.23         0.32             8.5      0.058   \n",
            "4            7.2              0.23         0.32             8.5      0.058   \n",
            "\n",
            "   free sulfur dioxide  total sulfur dioxide  density    pH  sulphates  \\\n",
            "0                 45.0                 170.0   1.0010  3.00       0.45   \n",
            "1                 14.0                 132.0   0.9940  3.30       0.49   \n",
            "2                 30.0                  97.0   0.9951  3.26       0.44   \n",
            "3                 47.0                 186.0   0.9956  3.19       0.40   \n",
            "4                 47.0                 186.0   0.9956  3.19       0.40   \n",
            "\n",
            "   alcohol  quality  category  \n",
            "0      8.8        6         0  \n",
            "1      9.5        6         0  \n",
            "2     10.1        6         0  \n",
            "3      9.9        6         0  \n",
            "4      9.9        6         0  \n"
          ]
        }
      ]
    },
    {
      "cell_type": "markdown",
      "source": [
        "**1-1-0** Print 16th, 17th, and 18th records (i.e., starting with row index 15) of the x dataframe"
      ],
      "metadata": {
        "id": "UeBZlUfVkHs-"
      }
    },
    {
      "cell_type": "code",
      "source": [
        "x = data.drop(columns=['quality'])\n",
        "\n",
        "print('16th, 17th, and 18th records of x dataframe:')\n",
        "print(x.iloc[15:18])"
      ],
      "metadata": {
        "colab": {
          "base_uri": "https://localhost:8080/"
        },
        "id": "TnDEIkzJkEEq",
        "outputId": "c8e44b54-771b-4583-8cca-a012394eeacf"
      },
      "execution_count": null,
      "outputs": [
        {
          "output_type": "stream",
          "name": "stdout",
          "text": [
            "16th, 17th, and 18th records of x dataframe:\n",
            "    fixed acidity  volatile acidity  citric acid  residual sugar  chlorides  \\\n",
            "15            6.6              0.17         0.38             1.5      0.032   \n",
            "16            6.3              0.48         0.04             1.1      0.046   \n",
            "17            6.2              0.66         0.48             1.2      0.029   \n",
            "\n",
            "    free sulfur dioxide  total sulfur dioxide  density    pH  sulphates  \\\n",
            "15                 28.0                 112.0   0.9914  3.25       0.55   \n",
            "16                 30.0                  99.0   0.9928  3.24       0.36   \n",
            "17                 29.0                  75.0   0.9892  3.33       0.39   \n",
            "\n",
            "    alcohol  category  \n",
            "15     11.4         0  \n",
            "16      9.6         0  \n",
            "17     12.8         0  \n"
          ]
        }
      ]
    },
    {
      "cell_type": "markdown",
      "source": [
        "**1-1-1** Print 16th, 17th, and 18th records (i.e., starting with row index 15) of the y dataframe"
      ],
      "metadata": {
        "id": "UX4YOnWRky8c"
      }
    },
    {
      "cell_type": "code",
      "source": [
        "y = data['quality']\n",
        "print('16th, 17th, and 18th records of y dataframe:')\n",
        "print(y.iloc[15:18])"
      ],
      "metadata": {
        "colab": {
          "base_uri": "https://localhost:8080/"
        },
        "id": "Vz_h84z6kx-L",
        "outputId": "bc9b3b22-cb75-431d-9dc2-618ddda52ed9"
      },
      "execution_count": null,
      "outputs": [
        {
          "output_type": "stream",
          "name": "stdout",
          "text": [
            "16th, 17th, and 18th records of y dataframe:\n",
            "15    7\n",
            "16    6\n",
            "17    8\n",
            "Name: quality, dtype: int64\n"
          ]
        }
      ]
    },
    {
      "cell_type": "markdown",
      "source": [
        "**Step 2:** Load & Prep Dataframes\n",
        "Prep train vs. test sets\n",
        "Use train_test_split from sklearn to split the x dataframe and y target from the previous step\n",
        "50% training and 50% for testing\n",
        "Use the random seed 1693 in the train_test_split statementet"
      ],
      "metadata": {
        "id": "4b4Q5D6PlY4t"
      }
    },
    {
      "cell_type": "code",
      "source": [
        "x_train, x_test, y_train, y_test = train_test_split(x, y, test_size=0.5, random_state=1693)"
      ],
      "metadata": {
        "id": "zkldMUAh1NGB"
      },
      "execution_count": null,
      "outputs": []
    },
    {
      "cell_type": "markdown",
      "source": [
        "**Q1-1-2** Print the first record in the y test set"
      ],
      "metadata": {
        "id": "Iq6d6UkylqjZ"
      }
    },
    {
      "cell_type": "code",
      "source": [
        "print('First record in the y test set:')\n",
        "print(y_test.iloc[0])"
      ],
      "metadata": {
        "colab": {
          "base_uri": "https://localhost:8080/"
        },
        "id": "L3fzb-rLlqMp",
        "outputId": "3392c333-91d8-4d53-96c6-a7434829ab2d"
      },
      "execution_count": null,
      "outputs": [
        {
          "output_type": "stream",
          "name": "stdout",
          "text": [
            "First record in the y test set:\n",
            "5\n"
          ]
        }
      ]
    },
    {
      "cell_type": "markdown",
      "source": [
        "**Step 3:** Train Model\n",
        "Create a Sequential model and name it \"WineQuality\""
      ],
      "metadata": {
        "id": "K6at_6zVl-FZ"
      }
    },
    {
      "cell_type": "code",
      "source": [
        "model = Sequential(name='WineQuality')"
      ],
      "metadata": {
        "id": "RyqH3dU_oD4b"
      },
      "execution_count": null,
      "outputs": []
    },
    {
      "cell_type": "markdown",
      "source": [
        "Add one Dense hidden layer with:\n",
        "1.   7 nodes\n",
        "2.   adequate number for input dimension\n",
        "3.   use relu activation function\n",
        "4.   layer name \"HL1\""
      ],
      "metadata": {
        "id": "CJew4l_1nwW9"
      }
    },
    {
      "cell_type": "code",
      "source": [
        "model.add(Dense(units=7, activation='relu', input_shape=(x_train.shape[1],), name='HL1'))"
      ],
      "metadata": {
        "colab": {
          "base_uri": "https://localhost:8080/"
        },
        "collapsed": true,
        "id": "2_wHG8vDntEx",
        "outputId": "75ca1101-c992-4a61-d00e-4cbc70a46068"
      },
      "execution_count": null,
      "outputs": [
        {
          "output_type": "stream",
          "name": "stderr",
          "text": [
            "/usr/local/lib/python3.11/dist-packages/keras/src/layers/core/dense.py:87: UserWarning: Do not pass an `input_shape`/`input_dim` argument to a layer. When using Sequential models, prefer using an `Input(shape)` object as the first layer in the model instead.\n",
            "  super().__init__(activity_regularizer=activity_regularizer, **kwargs)\n"
          ]
        }
      ]
    },
    {
      "cell_type": "markdown",
      "source": [
        "Add another Dense hidden layer with:\n",
        "\n",
        "1.   5 nodes\n",
        "2.   use relu activation function\n",
        "3.   layer name \"HL1\""
      ],
      "metadata": {
        "id": "Y-vMzVYMoR4k"
      }
    },
    {
      "cell_type": "code",
      "source": [
        "model.add(Dense(units=5, activation='relu', name='HL2'))"
      ],
      "metadata": {
        "id": "CYXZcpVHoUj6"
      },
      "execution_count": null,
      "outputs": []
    },
    {
      "cell_type": "markdown",
      "source": [
        "Add another Dense output layer with:\n",
        "\n",
        "1.   an adequate number of nodes\n",
        "2.   an adequate activation function\n",
        "3.   layer name \"OL\""
      ],
      "metadata": {
        "id": "U4BMJhQZoezb"
      }
    },
    {
      "cell_type": "code",
      "source": [
        "model.add(Dense(units=1, activation='linear', name='OL'))"
      ],
      "metadata": {
        "id": "B4MpdcJnVuEt"
      },
      "execution_count": null,
      "outputs": []
    },
    {
      "cell_type": "markdown",
      "source": [
        "**Q1-1-3:** Print a summary of your model using model.summary()"
      ],
      "metadata": {
        "id": "cxe31-ugoh1h"
      }
    },
    {
      "cell_type": "code",
      "source": [
        "print(model.summary())"
      ],
      "metadata": {
        "colab": {
          "base_uri": "https://localhost:8080/",
          "height": 242
        },
        "id": "AU56qsgioqYI",
        "outputId": "bcb66705-2004-458f-f278-3935ab5514a5"
      },
      "execution_count": null,
      "outputs": [
        {
          "output_type": "display_data",
          "data": {
            "text/plain": [
              "\u001b[1mModel: \"WineQuality\"\u001b[0m\n"
            ],
            "text/html": [
              "<pre style=\"white-space:pre;overflow-x:auto;line-height:normal;font-family:Menlo,'DejaVu Sans Mono',consolas,'Courier New',monospace\"><span style=\"font-weight: bold\">Model: \"WineQuality\"</span>\n",
              "</pre>\n"
            ]
          },
          "metadata": {}
        },
        {
          "output_type": "display_data",
          "data": {
            "text/plain": [
              "┏━━━━━━━━━━━━━━━━━━━━━━━━━━━━━━━━━━━━━━┳━━━━━━━━━━━━━━━━━━━━━━━━━━━━━┳━━━━━━━━━━━━━━━━━┓\n",
              "┃\u001b[1m \u001b[0m\u001b[1mLayer (type)                        \u001b[0m\u001b[1m \u001b[0m┃\u001b[1m \u001b[0m\u001b[1mOutput Shape               \u001b[0m\u001b[1m \u001b[0m┃\u001b[1m \u001b[0m\u001b[1m        Param #\u001b[0m\u001b[1m \u001b[0m┃\n",
              "┡━━━━━━━━━━━━━━━━━━━━━━━━━━━━━━━━━━━━━━╇━━━━━━━━━━━━━━━━━━━━━━━━━━━━━╇━━━━━━━━━━━━━━━━━┩\n",
              "│ HL1 (\u001b[38;5;33mDense\u001b[0m)                          │ (\u001b[38;5;45mNone\u001b[0m, \u001b[38;5;34m7\u001b[0m)                   │              \u001b[38;5;34m91\u001b[0m │\n",
              "├──────────────────────────────────────┼─────────────────────────────┼─────────────────┤\n",
              "│ HL2 (\u001b[38;5;33mDense\u001b[0m)                          │ (\u001b[38;5;45mNone\u001b[0m, \u001b[38;5;34m5\u001b[0m)                   │              \u001b[38;5;34m40\u001b[0m │\n",
              "├──────────────────────────────────────┼─────────────────────────────┼─────────────────┤\n",
              "│ OL (\u001b[38;5;33mDense\u001b[0m)                           │ (\u001b[38;5;45mNone\u001b[0m, \u001b[38;5;34m1\u001b[0m)                   │               \u001b[38;5;34m6\u001b[0m │\n",
              "└──────────────────────────────────────┴─────────────────────────────┴─────────────────┘\n"
            ],
            "text/html": [
              "<pre style=\"white-space:pre;overflow-x:auto;line-height:normal;font-family:Menlo,'DejaVu Sans Mono',consolas,'Courier New',monospace\">┏━━━━━━━━━━━━━━━━━━━━━━━━━━━━━━━━━━━━━━┳━━━━━━━━━━━━━━━━━━━━━━━━━━━━━┳━━━━━━━━━━━━━━━━━┓\n",
              "┃<span style=\"font-weight: bold\"> Layer (type)                         </span>┃<span style=\"font-weight: bold\"> Output Shape                </span>┃<span style=\"font-weight: bold\">         Param # </span>┃\n",
              "┡━━━━━━━━━━━━━━━━━━━━━━━━━━━━━━━━━━━━━━╇━━━━━━━━━━━━━━━━━━━━━━━━━━━━━╇━━━━━━━━━━━━━━━━━┩\n",
              "│ HL1 (<span style=\"color: #0087ff; text-decoration-color: #0087ff\">Dense</span>)                          │ (<span style=\"color: #00d7ff; text-decoration-color: #00d7ff\">None</span>, <span style=\"color: #00af00; text-decoration-color: #00af00\">7</span>)                   │              <span style=\"color: #00af00; text-decoration-color: #00af00\">91</span> │\n",
              "├──────────────────────────────────────┼─────────────────────────────┼─────────────────┤\n",
              "│ HL2 (<span style=\"color: #0087ff; text-decoration-color: #0087ff\">Dense</span>)                          │ (<span style=\"color: #00d7ff; text-decoration-color: #00d7ff\">None</span>, <span style=\"color: #00af00; text-decoration-color: #00af00\">5</span>)                   │              <span style=\"color: #00af00; text-decoration-color: #00af00\">40</span> │\n",
              "├──────────────────────────────────────┼─────────────────────────────┼─────────────────┤\n",
              "│ OL (<span style=\"color: #0087ff; text-decoration-color: #0087ff\">Dense</span>)                           │ (<span style=\"color: #00d7ff; text-decoration-color: #00d7ff\">None</span>, <span style=\"color: #00af00; text-decoration-color: #00af00\">1</span>)                   │               <span style=\"color: #00af00; text-decoration-color: #00af00\">6</span> │\n",
              "└──────────────────────────────────────┴─────────────────────────────┴─────────────────┘\n",
              "</pre>\n"
            ]
          },
          "metadata": {}
        },
        {
          "output_type": "display_data",
          "data": {
            "text/plain": [
              "\u001b[1m Total params: \u001b[0m\u001b[38;5;34m137\u001b[0m (548.00 B)\n"
            ],
            "text/html": [
              "<pre style=\"white-space:pre;overflow-x:auto;line-height:normal;font-family:Menlo,'DejaVu Sans Mono',consolas,'Courier New',monospace\"><span style=\"font-weight: bold\"> Total params: </span><span style=\"color: #00af00; text-decoration-color: #00af00\">137</span> (548.00 B)\n",
              "</pre>\n"
            ]
          },
          "metadata": {}
        },
        {
          "output_type": "display_data",
          "data": {
            "text/plain": [
              "\u001b[1m Trainable params: \u001b[0m\u001b[38;5;34m137\u001b[0m (548.00 B)\n"
            ],
            "text/html": [
              "<pre style=\"white-space:pre;overflow-x:auto;line-height:normal;font-family:Menlo,'DejaVu Sans Mono',consolas,'Courier New',monospace\"><span style=\"font-weight: bold\"> Trainable params: </span><span style=\"color: #00af00; text-decoration-color: #00af00\">137</span> (548.00 B)\n",
              "</pre>\n"
            ]
          },
          "metadata": {}
        },
        {
          "output_type": "display_data",
          "data": {
            "text/plain": [
              "\u001b[1m Non-trainable params: \u001b[0m\u001b[38;5;34m0\u001b[0m (0.00 B)\n"
            ],
            "text/html": [
              "<pre style=\"white-space:pre;overflow-x:auto;line-height:normal;font-family:Menlo,'DejaVu Sans Mono',consolas,'Courier New',monospace\"><span style=\"font-weight: bold\"> Non-trainable params: </span><span style=\"color: #00af00; text-decoration-color: #00af00\">0</span> (0.00 B)\n",
              "</pre>\n"
            ]
          },
          "metadata": {}
        },
        {
          "output_type": "stream",
          "name": "stdout",
          "text": [
            "None\n"
          ]
        }
      ]
    },
    {
      "cell_type": "markdown",
      "source": [
        "Compile the model with:\n",
        "\n",
        "1.   mse as the loss function\n",
        "2.   adam as the optimizer\n",
        "3.   mse as the metric\n",
        "\n"
      ],
      "metadata": {
        "id": "yh2GT7JgpGW-"
      }
    },
    {
      "cell_type": "code",
      "source": [
        "model.compile(optimizer='adam', loss='mean_squared_error', metrics=['mean_squared_error'])"
      ],
      "metadata": {
        "id": "vlbRImweYKAo",
        "collapsed": true
      },
      "execution_count": null,
      "outputs": []
    },
    {
      "cell_type": "markdown",
      "source": [
        "Train the model with:\n",
        "\n",
        "1.   train set from above\n",
        "2.   train set split with 25% for validation\n",
        "3.   150 epochs\n",
        "4.   no printout of each apoch result"
      ],
      "metadata": {
        "id": "c2ymee-tpo2a"
      }
    },
    {
      "cell_type": "code",
      "source": [
        "history = model.fit(x_train, y_train, validation_split=0.25, epochs=150, verbose=1)"
      ],
      "metadata": {
        "colab": {
          "base_uri": "https://localhost:8080/"
        },
        "collapsed": true,
        "id": "NDplwnk_qBIL",
        "outputId": "fa83b50f-2625-4d37-9fcf-852c370f7d1a"
      },
      "execution_count": null,
      "outputs": [
        {
          "output_type": "stream",
          "name": "stdout",
          "text": [
            "Epoch 1/150\n",
            "\u001b[1m77/77\u001b[0m \u001b[32m━━━━━━━━━━━━━━━━━━━━\u001b[0m\u001b[37m\u001b[0m \u001b[1m2s\u001b[0m 5ms/step - loss: 883.5994 - mean_squared_error: 883.5994 - val_loss: 93.9183 - val_mean_squared_error: 93.9183\n",
            "Epoch 2/150\n",
            "\u001b[1m77/77\u001b[0m \u001b[32m━━━━━━━━━━━━━━━━━━━━\u001b[0m\u001b[37m\u001b[0m \u001b[1m0s\u001b[0m 3ms/step - loss: 59.8941 - mean_squared_error: 59.8941 - val_loss: 28.8455 - val_mean_squared_error: 28.8455\n",
            "Epoch 3/150\n",
            "\u001b[1m77/77\u001b[0m \u001b[32m━━━━━━━━━━━━━━━━━━━━\u001b[0m\u001b[37m\u001b[0m \u001b[1m0s\u001b[0m 3ms/step - loss: 28.1422 - mean_squared_error: 28.1422 - val_loss: 24.6012 - val_mean_squared_error: 24.6012\n",
            "Epoch 4/150\n",
            "\u001b[1m77/77\u001b[0m \u001b[32m━━━━━━━━━━━━━━━━━━━━\u001b[0m\u001b[37m\u001b[0m \u001b[1m0s\u001b[0m 3ms/step - loss: 24.0503 - mean_squared_error: 24.0503 - val_loss: 20.8404 - val_mean_squared_error: 20.8404\n",
            "Epoch 5/150\n",
            "\u001b[1m77/77\u001b[0m \u001b[32m━━━━━━━━━━━━━━━━━━━━\u001b[0m\u001b[37m\u001b[0m \u001b[1m0s\u001b[0m 3ms/step - loss: 20.3913 - mean_squared_error: 20.3913 - val_loss: 17.6425 - val_mean_squared_error: 17.6425\n",
            "Epoch 6/150\n",
            "\u001b[1m77/77\u001b[0m \u001b[32m━━━━━━━━━━━━━━━━━━━━\u001b[0m\u001b[37m\u001b[0m \u001b[1m0s\u001b[0m 3ms/step - loss: 17.2415 - mean_squared_error: 17.2415 - val_loss: 14.9280 - val_mean_squared_error: 14.9280\n",
            "Epoch 7/150\n",
            "\u001b[1m77/77\u001b[0m \u001b[32m━━━━━━━━━━━━━━━━━━━━\u001b[0m\u001b[37m\u001b[0m \u001b[1m0s\u001b[0m 3ms/step - loss: 14.5380 - mean_squared_error: 14.5380 - val_loss: 12.6750 - val_mean_squared_error: 12.6750\n",
            "Epoch 8/150\n",
            "\u001b[1m77/77\u001b[0m \u001b[32m━━━━━━━━━━━━━━━━━━━━\u001b[0m\u001b[37m\u001b[0m \u001b[1m0s\u001b[0m 3ms/step - loss: 12.2510 - mean_squared_error: 12.2510 - val_loss: 10.8020 - val_mean_squared_error: 10.8020\n",
            "Epoch 9/150\n",
            "\u001b[1m77/77\u001b[0m \u001b[32m━━━━━━━━━━━━━━━━━━━━\u001b[0m\u001b[37m\u001b[0m \u001b[1m0s\u001b[0m 3ms/step - loss: 10.3355 - mean_squared_error: 10.3355 - val_loss: 9.2166 - val_mean_squared_error: 9.2166\n",
            "Epoch 10/150\n",
            "\u001b[1m77/77\u001b[0m \u001b[32m━━━━━━━━━━━━━━━━━━━━\u001b[0m\u001b[37m\u001b[0m \u001b[1m0s\u001b[0m 3ms/step - loss: 8.7179 - mean_squared_error: 8.7179 - val_loss: 7.8723 - val_mean_squared_error: 7.8723\n",
            "Epoch 11/150\n",
            "\u001b[1m77/77\u001b[0m \u001b[32m━━━━━━━━━━━━━━━━━━━━\u001b[0m\u001b[37m\u001b[0m \u001b[1m0s\u001b[0m 6ms/step - loss: 7.2162 - mean_squared_error: 7.2162 - val_loss: 6.1786 - val_mean_squared_error: 6.1786\n",
            "Epoch 12/150\n",
            "\u001b[1m77/77\u001b[0m \u001b[32m━━━━━━━━━━━━━━━━━━━━\u001b[0m\u001b[37m\u001b[0m \u001b[1m0s\u001b[0m 3ms/step - loss: 5.6390 - mean_squared_error: 5.6390 - val_loss: 5.0386 - val_mean_squared_error: 5.0386\n",
            "Epoch 13/150\n",
            "\u001b[1m77/77\u001b[0m \u001b[32m━━━━━━━━━━━━━━━━━━━━\u001b[0m\u001b[37m\u001b[0m \u001b[1m0s\u001b[0m 3ms/step - loss: 4.6640 - mean_squared_error: 4.6640 - val_loss: 4.1360 - val_mean_squared_error: 4.1360\n",
            "Epoch 14/150\n",
            "\u001b[1m77/77\u001b[0m \u001b[32m━━━━━━━━━━━━━━━━━━━━\u001b[0m\u001b[37m\u001b[0m \u001b[1m0s\u001b[0m 5ms/step - loss: 3.9011 - mean_squared_error: 3.9011 - val_loss: 3.4250 - val_mean_squared_error: 3.4250\n",
            "Epoch 15/150\n",
            "\u001b[1m77/77\u001b[0m \u001b[32m━━━━━━━━━━━━━━━━━━━━\u001b[0m\u001b[37m\u001b[0m \u001b[1m0s\u001b[0m 6ms/step - loss: 3.2153 - mean_squared_error: 3.2153 - val_loss: 2.6365 - val_mean_squared_error: 2.6365\n",
            "Epoch 16/150\n",
            "\u001b[1m77/77\u001b[0m \u001b[32m━━━━━━━━━━━━━━━━━━━━\u001b[0m\u001b[37m\u001b[0m \u001b[1m1s\u001b[0m 4ms/step - loss: 2.3526 - mean_squared_error: 2.3526 - val_loss: 1.5621 - val_mean_squared_error: 1.5621\n",
            "Epoch 17/150\n",
            "\u001b[1m77/77\u001b[0m \u001b[32m━━━━━━━━━━━━━━━━━━━━\u001b[0m\u001b[37m\u001b[0m \u001b[1m1s\u001b[0m 6ms/step - loss: 1.5152 - mean_squared_error: 1.5152 - val_loss: 1.1264 - val_mean_squared_error: 1.1264\n",
            "Epoch 18/150\n",
            "\u001b[1m77/77\u001b[0m \u001b[32m━━━━━━━━━━━━━━━━━━━━\u001b[0m\u001b[37m\u001b[0m \u001b[1m0s\u001b[0m 3ms/step - loss: 1.1894 - mean_squared_error: 1.1894 - val_loss: 1.0242 - val_mean_squared_error: 1.0242\n",
            "Epoch 19/150\n",
            "\u001b[1m77/77\u001b[0m \u001b[32m━━━━━━━━━━━━━━━━━━━━\u001b[0m\u001b[37m\u001b[0m \u001b[1m0s\u001b[0m 3ms/step - loss: 1.0856 - mean_squared_error: 1.0856 - val_loss: 0.9841 - val_mean_squared_error: 0.9841\n",
            "Epoch 20/150\n",
            "\u001b[1m77/77\u001b[0m \u001b[32m━━━━━━━━━━━━━━━━━━━━\u001b[0m\u001b[37m\u001b[0m \u001b[1m0s\u001b[0m 3ms/step - loss: 1.0435 - mean_squared_error: 1.0435 - val_loss: 0.9586 - val_mean_squared_error: 0.9586\n",
            "Epoch 21/150\n",
            "\u001b[1m77/77\u001b[0m \u001b[32m━━━━━━━━━━━━━━━━━━━━\u001b[0m\u001b[37m\u001b[0m \u001b[1m0s\u001b[0m 3ms/step - loss: 1.0162 - mean_squared_error: 1.0162 - val_loss: 0.9385 - val_mean_squared_error: 0.9385\n",
            "Epoch 22/150\n",
            "\u001b[1m77/77\u001b[0m \u001b[32m━━━━━━━━━━━━━━━━━━━━\u001b[0m\u001b[37m\u001b[0m \u001b[1m0s\u001b[0m 3ms/step - loss: 0.9954 - mean_squared_error: 0.9954 - val_loss: 0.9202 - val_mean_squared_error: 0.9202\n",
            "Epoch 23/150\n",
            "\u001b[1m77/77\u001b[0m \u001b[32m━━━━━━━━━━━━━━━━━━━━\u001b[0m\u001b[37m\u001b[0m \u001b[1m0s\u001b[0m 3ms/step - loss: 0.9759 - mean_squared_error: 0.9759 - val_loss: 0.9034 - val_mean_squared_error: 0.9034\n",
            "Epoch 24/150\n",
            "\u001b[1m77/77\u001b[0m \u001b[32m━━━━━━━━━━━━━━━━━━━━\u001b[0m\u001b[37m\u001b[0m \u001b[1m0s\u001b[0m 3ms/step - loss: 0.9578 - mean_squared_error: 0.9578 - val_loss: 0.8894 - val_mean_squared_error: 0.8894\n",
            "Epoch 25/150\n",
            "\u001b[1m77/77\u001b[0m \u001b[32m━━━━━━━━━━━━━━━━━━━━\u001b[0m\u001b[37m\u001b[0m \u001b[1m0s\u001b[0m 3ms/step - loss: 0.9420 - mean_squared_error: 0.9420 - val_loss: 0.8754 - val_mean_squared_error: 0.8754\n",
            "Epoch 26/150\n",
            "\u001b[1m77/77\u001b[0m \u001b[32m━━━━━━━━━━━━━━━━━━━━\u001b[0m\u001b[37m\u001b[0m \u001b[1m0s\u001b[0m 3ms/step - loss: 0.9262 - mean_squared_error: 0.9262 - val_loss: 0.8629 - val_mean_squared_error: 0.8629\n",
            "Epoch 27/150\n",
            "\u001b[1m77/77\u001b[0m \u001b[32m━━━━━━━━━━━━━━━━━━━━\u001b[0m\u001b[37m\u001b[0m \u001b[1m0s\u001b[0m 3ms/step - loss: 0.9116 - mean_squared_error: 0.9116 - val_loss: 0.8516 - val_mean_squared_error: 0.8516\n",
            "Epoch 28/150\n",
            "\u001b[1m77/77\u001b[0m \u001b[32m━━━━━━━━━━━━━━━━━━━━\u001b[0m\u001b[37m\u001b[0m \u001b[1m0s\u001b[0m 3ms/step - loss: 0.8981 - mean_squared_error: 0.8981 - val_loss: 0.8408 - val_mean_squared_error: 0.8408\n",
            "Epoch 29/150\n",
            "\u001b[1m77/77\u001b[0m \u001b[32m━━━━━━━━━━━━━━━━━━━━\u001b[0m\u001b[37m\u001b[0m \u001b[1m0s\u001b[0m 3ms/step - loss: 0.8849 - mean_squared_error: 0.8849 - val_loss: 0.8335 - val_mean_squared_error: 0.8335\n",
            "Epoch 30/150\n",
            "\u001b[1m77/77\u001b[0m \u001b[32m━━━━━━━━━━━━━━━━━━━━\u001b[0m\u001b[37m\u001b[0m \u001b[1m0s\u001b[0m 3ms/step - loss: 0.8747 - mean_squared_error: 0.8747 - val_loss: 0.8258 - val_mean_squared_error: 0.8258\n",
            "Epoch 31/150\n",
            "\u001b[1m77/77\u001b[0m \u001b[32m━━━━━━━━━━━━━━━━━━━━\u001b[0m\u001b[37m\u001b[0m \u001b[1m0s\u001b[0m 4ms/step - loss: 0.8639 - mean_squared_error: 0.8639 - val_loss: 0.8192 - val_mean_squared_error: 0.8192\n",
            "Epoch 32/150\n",
            "\u001b[1m77/77\u001b[0m \u001b[32m━━━━━━━━━━━━━━━━━━━━\u001b[0m\u001b[37m\u001b[0m \u001b[1m1s\u001b[0m 10ms/step - loss: 0.8540 - mean_squared_error: 0.8540 - val_loss: 0.8130 - val_mean_squared_error: 0.8130\n",
            "Epoch 33/150\n",
            "\u001b[1m77/77\u001b[0m \u001b[32m━━━━━━━━━━━━━━━━━━━━\u001b[0m\u001b[37m\u001b[0m \u001b[1m1s\u001b[0m 8ms/step - loss: 0.8448 - mean_squared_error: 0.8448 - val_loss: 0.8070 - val_mean_squared_error: 0.8070\n",
            "Epoch 34/150\n",
            "\u001b[1m77/77\u001b[0m \u001b[32m━━━━━━━━━━━━━━━━━━━━\u001b[0m\u001b[37m\u001b[0m \u001b[1m0s\u001b[0m 3ms/step - loss: 0.8355 - mean_squared_error: 0.8355 - val_loss: 0.8016 - val_mean_squared_error: 0.8016\n",
            "Epoch 35/150\n",
            "\u001b[1m77/77\u001b[0m \u001b[32m━━━━━━━━━━━━━━━━━━━━\u001b[0m\u001b[37m\u001b[0m \u001b[1m0s\u001b[0m 3ms/step - loss: 0.8268 - mean_squared_error: 0.8268 - val_loss: 0.7968 - val_mean_squared_error: 0.7968\n",
            "Epoch 36/150\n",
            "\u001b[1m77/77\u001b[0m \u001b[32m━━━━━━━━━━━━━━━━━━━━\u001b[0m\u001b[37m\u001b[0m \u001b[1m0s\u001b[0m 3ms/step - loss: 0.8180 - mean_squared_error: 0.8180 - val_loss: 0.7927 - val_mean_squared_error: 0.7927\n",
            "Epoch 37/150\n",
            "\u001b[1m77/77\u001b[0m \u001b[32m━━━━━━━━━━━━━━━━━━━━\u001b[0m\u001b[37m\u001b[0m \u001b[1m0s\u001b[0m 3ms/step - loss: 0.8097 - mean_squared_error: 0.8097 - val_loss: 0.7887 - val_mean_squared_error: 0.7887\n",
            "Epoch 38/150\n",
            "\u001b[1m77/77\u001b[0m \u001b[32m━━━━━━━━━━━━━━━━━━━━\u001b[0m\u001b[37m\u001b[0m \u001b[1m0s\u001b[0m 3ms/step - loss: 0.8014 - mean_squared_error: 0.8014 - val_loss: 0.7841 - val_mean_squared_error: 0.7841\n",
            "Epoch 39/150\n",
            "\u001b[1m77/77\u001b[0m \u001b[32m━━━━━━━━━━━━━━━━━━━━\u001b[0m\u001b[37m\u001b[0m \u001b[1m0s\u001b[0m 3ms/step - loss: 0.7936 - mean_squared_error: 0.7936 - val_loss: 0.7788 - val_mean_squared_error: 0.7788\n",
            "Epoch 40/150\n",
            "\u001b[1m77/77\u001b[0m \u001b[32m━━━━━━━━━━━━━━━━━━━━\u001b[0m\u001b[37m\u001b[0m \u001b[1m0s\u001b[0m 3ms/step - loss: 0.7862 - mean_squared_error: 0.7862 - val_loss: 0.7748 - val_mean_squared_error: 0.7748\n",
            "Epoch 41/150\n",
            "\u001b[1m77/77\u001b[0m \u001b[32m━━━━━━━━━━━━━━━━━━━━\u001b[0m\u001b[37m\u001b[0m \u001b[1m0s\u001b[0m 3ms/step - loss: 0.7790 - mean_squared_error: 0.7790 - val_loss: 0.7710 - val_mean_squared_error: 0.7710\n",
            "Epoch 42/150\n",
            "\u001b[1m77/77\u001b[0m \u001b[32m━━━━━━━━━━━━━━━━━━━━\u001b[0m\u001b[37m\u001b[0m \u001b[1m0s\u001b[0m 3ms/step - loss: 0.7719 - mean_squared_error: 0.7719 - val_loss: 0.7671 - val_mean_squared_error: 0.7671\n",
            "Epoch 43/150\n",
            "\u001b[1m77/77\u001b[0m \u001b[32m━━━━━━━━━━━━━━━━━━━━\u001b[0m\u001b[37m\u001b[0m \u001b[1m0s\u001b[0m 3ms/step - loss: 0.7652 - mean_squared_error: 0.7652 - val_loss: 0.7629 - val_mean_squared_error: 0.7629\n",
            "Epoch 44/150\n",
            "\u001b[1m77/77\u001b[0m \u001b[32m━━━━━━━━━━━━━━━━━━━━\u001b[0m\u001b[37m\u001b[0m \u001b[1m0s\u001b[0m 3ms/step - loss: 0.7584 - mean_squared_error: 0.7584 - val_loss: 0.7608 - val_mean_squared_error: 0.7608\n",
            "Epoch 45/150\n",
            "\u001b[1m77/77\u001b[0m \u001b[32m━━━━━━━━━━━━━━━━━━━━\u001b[0m\u001b[37m\u001b[0m \u001b[1m0s\u001b[0m 3ms/step - loss: 0.7520 - mean_squared_error: 0.7520 - val_loss: 0.7558 - val_mean_squared_error: 0.7558\n",
            "Epoch 46/150\n",
            "\u001b[1m77/77\u001b[0m \u001b[32m━━━━━━━━━━━━━━━━━━━━\u001b[0m\u001b[37m\u001b[0m \u001b[1m0s\u001b[0m 3ms/step - loss: 0.7448 - mean_squared_error: 0.7448 - val_loss: 0.7233 - val_mean_squared_error: 0.7233\n",
            "Epoch 47/150\n",
            "\u001b[1m77/77\u001b[0m \u001b[32m━━━━━━━━━━━━━━━━━━━━\u001b[0m\u001b[37m\u001b[0m \u001b[1m0s\u001b[0m 6ms/step - loss: 0.7296 - mean_squared_error: 0.7296 - val_loss: 0.7471 - val_mean_squared_error: 0.7471\n",
            "Epoch 48/150\n",
            "\u001b[1m77/77\u001b[0m \u001b[32m━━━━━━━━━━━━━━━━━━━━\u001b[0m\u001b[37m\u001b[0m \u001b[1m0s\u001b[0m 6ms/step - loss: 0.7321 - mean_squared_error: 0.7321 - val_loss: 0.7425 - val_mean_squared_error: 0.7425\n",
            "Epoch 49/150\n",
            "\u001b[1m77/77\u001b[0m \u001b[32m━━━━━━━━━━━━━━━━━━━━\u001b[0m\u001b[37m\u001b[0m \u001b[1m1s\u001b[0m 5ms/step - loss: 0.7263 - mean_squared_error: 0.7263 - val_loss: 0.7375 - val_mean_squared_error: 0.7375\n",
            "Epoch 50/150\n",
            "\u001b[1m77/77\u001b[0m \u001b[32m━━━━━━━━━━━━━━━━━━━━\u001b[0m\u001b[37m\u001b[0m \u001b[1m1s\u001b[0m 6ms/step - loss: 0.7202 - mean_squared_error: 0.7202 - val_loss: 0.7324 - val_mean_squared_error: 0.7324\n",
            "Epoch 51/150\n",
            "\u001b[1m77/77\u001b[0m \u001b[32m━━━━━━━━━━━━━━━━━━━━\u001b[0m\u001b[37m\u001b[0m \u001b[1m0s\u001b[0m 3ms/step - loss: 0.7142 - mean_squared_error: 0.7142 - val_loss: 0.7269 - val_mean_squared_error: 0.7269\n",
            "Epoch 52/150\n",
            "\u001b[1m77/77\u001b[0m \u001b[32m━━━━━━━━━━━━━━━━━━━━\u001b[0m\u001b[37m\u001b[0m \u001b[1m0s\u001b[0m 3ms/step - loss: 0.7083 - mean_squared_error: 0.7083 - val_loss: 0.7214 - val_mean_squared_error: 0.7214\n",
            "Epoch 53/150\n",
            "\u001b[1m77/77\u001b[0m \u001b[32m━━━━━━━━━━━━━━━━━━━━\u001b[0m\u001b[37m\u001b[0m \u001b[1m0s\u001b[0m 3ms/step - loss: 0.7020 - mean_squared_error: 0.7020 - val_loss: 0.6911 - val_mean_squared_error: 0.6911\n",
            "Epoch 54/150\n",
            "\u001b[1m77/77\u001b[0m \u001b[32m━━━━━━━━━━━━━━━━━━━━\u001b[0m\u001b[37m\u001b[0m \u001b[1m0s\u001b[0m 3ms/step - loss: 0.6897 - mean_squared_error: 0.6897 - val_loss: 0.7072 - val_mean_squared_error: 0.7072\n",
            "Epoch 55/150\n",
            "\u001b[1m77/77\u001b[0m \u001b[32m━━━━━━━━━━━━━━━━━━━━\u001b[0m\u001b[37m\u001b[0m \u001b[1m0s\u001b[0m 3ms/step - loss: 0.6906 - mean_squared_error: 0.6906 - val_loss: 0.6989 - val_mean_squared_error: 0.6989\n",
            "Epoch 56/150\n",
            "\u001b[1m77/77\u001b[0m \u001b[32m━━━━━━━━━━━━━━━━━━━━\u001b[0m\u001b[37m\u001b[0m \u001b[1m0s\u001b[0m 3ms/step - loss: 0.6851 - mean_squared_error: 0.6851 - val_loss: 0.6895 - val_mean_squared_error: 0.6895\n",
            "Epoch 57/150\n",
            "\u001b[1m77/77\u001b[0m \u001b[32m━━━━━━━━━━━━━━━━━━━━\u001b[0m\u001b[37m\u001b[0m \u001b[1m0s\u001b[0m 3ms/step - loss: 0.6793 - mean_squared_error: 0.6793 - val_loss: 0.6794 - val_mean_squared_error: 0.6794\n",
            "Epoch 58/150\n",
            "\u001b[1m77/77\u001b[0m \u001b[32m━━━━━━━━━━━━━━━━━━━━\u001b[0m\u001b[37m\u001b[0m \u001b[1m0s\u001b[0m 3ms/step - loss: 0.6726 - mean_squared_error: 0.6726 - val_loss: 0.6550 - val_mean_squared_error: 0.6550\n",
            "Epoch 59/150\n",
            "\u001b[1m77/77\u001b[0m \u001b[32m━━━━━━━━━━━━━━━━━━━━\u001b[0m\u001b[37m\u001b[0m \u001b[1m0s\u001b[0m 3ms/step - loss: 0.6626 - mean_squared_error: 0.6626 - val_loss: 0.6590 - val_mean_squared_error: 0.6590\n",
            "Epoch 60/150\n",
            "\u001b[1m77/77\u001b[0m \u001b[32m━━━━━━━━━━━━━━━━━━━━\u001b[0m\u001b[37m\u001b[0m \u001b[1m0s\u001b[0m 3ms/step - loss: 0.6618 - mean_squared_error: 0.6618 - val_loss: 0.6498 - val_mean_squared_error: 0.6498\n",
            "Epoch 61/150\n",
            "\u001b[1m77/77\u001b[0m \u001b[32m━━━━━━━━━━━━━━━━━━━━\u001b[0m\u001b[37m\u001b[0m \u001b[1m0s\u001b[0m 3ms/step - loss: 0.6571 - mean_squared_error: 0.6571 - val_loss: 0.6416 - val_mean_squared_error: 0.6416\n",
            "Epoch 62/150\n",
            "\u001b[1m77/77\u001b[0m \u001b[32m━━━━━━━━━━━━━━━━━━━━\u001b[0m\u001b[37m\u001b[0m \u001b[1m0s\u001b[0m 3ms/step - loss: 0.6521 - mean_squared_error: 0.6521 - val_loss: 0.6340 - val_mean_squared_error: 0.6340\n",
            "Epoch 63/150\n",
            "\u001b[1m77/77\u001b[0m \u001b[32m━━━━━━━━━━━━━━━━━━━━\u001b[0m\u001b[37m\u001b[0m \u001b[1m0s\u001b[0m 3ms/step - loss: 0.6477 - mean_squared_error: 0.6477 - val_loss: 0.6273 - val_mean_squared_error: 0.6273\n",
            "Epoch 64/150\n",
            "\u001b[1m77/77\u001b[0m \u001b[32m━━━━━━━━━━━━━━━━━━━━\u001b[0m\u001b[37m\u001b[0m \u001b[1m0s\u001b[0m 3ms/step - loss: 0.6436 - mean_squared_error: 0.6436 - val_loss: 0.6188 - val_mean_squared_error: 0.6188\n",
            "Epoch 65/150\n",
            "\u001b[1m77/77\u001b[0m \u001b[32m━━━━━━━━━━━━━━━━━━━━\u001b[0m\u001b[37m\u001b[0m \u001b[1m0s\u001b[0m 3ms/step - loss: 0.6389 - mean_squared_error: 0.6389 - val_loss: 0.6179 - val_mean_squared_error: 0.6179\n",
            "Epoch 66/150\n",
            "\u001b[1m77/77\u001b[0m \u001b[32m━━━━━━━━━━━━━━━━━━━━\u001b[0m\u001b[37m\u001b[0m \u001b[1m0s\u001b[0m 3ms/step - loss: 0.6387 - mean_squared_error: 0.6387 - val_loss: 0.6139 - val_mean_squared_error: 0.6139\n",
            "Epoch 67/150\n",
            "\u001b[1m77/77\u001b[0m \u001b[32m━━━━━━━━━━━━━━━━━━━━\u001b[0m\u001b[37m\u001b[0m \u001b[1m0s\u001b[0m 3ms/step - loss: 0.6362 - mean_squared_error: 0.6362 - val_loss: 0.6101 - val_mean_squared_error: 0.6101\n",
            "Epoch 68/150\n",
            "\u001b[1m77/77\u001b[0m \u001b[32m━━━━━━━━━━━━━━━━━━━━\u001b[0m\u001b[37m\u001b[0m \u001b[1m0s\u001b[0m 3ms/step - loss: 0.6335 - mean_squared_error: 0.6335 - val_loss: 0.6068 - val_mean_squared_error: 0.6068\n",
            "Epoch 69/150\n",
            "\u001b[1m77/77\u001b[0m \u001b[32m━━━━━━━━━━━━━━━━━━━━\u001b[0m\u001b[37m\u001b[0m \u001b[1m0s\u001b[0m 3ms/step - loss: 0.6311 - mean_squared_error: 0.6311 - val_loss: 0.6045 - val_mean_squared_error: 0.6045\n",
            "Epoch 70/150\n",
            "\u001b[1m77/77\u001b[0m \u001b[32m━━━━━━━━━━━━━━━━━━━━\u001b[0m\u001b[37m\u001b[0m \u001b[1m0s\u001b[0m 3ms/step - loss: 0.6290 - mean_squared_error: 0.6290 - val_loss: 0.6034 - val_mean_squared_error: 0.6034\n",
            "Epoch 71/150\n",
            "\u001b[1m77/77\u001b[0m \u001b[32m━━━━━━━━━━━━━━━━━━━━\u001b[0m\u001b[37m\u001b[0m \u001b[1m0s\u001b[0m 3ms/step - loss: 0.6271 - mean_squared_error: 0.6271 - val_loss: 0.6033 - val_mean_squared_error: 0.6033\n",
            "Epoch 72/150\n",
            "\u001b[1m77/77\u001b[0m \u001b[32m━━━━━━━━━━━━━━━━━━━━\u001b[0m\u001b[37m\u001b[0m \u001b[1m0s\u001b[0m 3ms/step - loss: 0.6255 - mean_squared_error: 0.6255 - val_loss: 0.6040 - val_mean_squared_error: 0.6040\n",
            "Epoch 73/150\n",
            "\u001b[1m77/77\u001b[0m \u001b[32m━━━━━━━━━━━━━━━━━━━━\u001b[0m\u001b[37m\u001b[0m \u001b[1m0s\u001b[0m 3ms/step - loss: 0.6240 - mean_squared_error: 0.6240 - val_loss: 0.6055 - val_mean_squared_error: 0.6055\n",
            "Epoch 74/150\n",
            "\u001b[1m77/77\u001b[0m \u001b[32m━━━━━━━━━━━━━━━━━━━━\u001b[0m\u001b[37m\u001b[0m \u001b[1m0s\u001b[0m 3ms/step - loss: 0.6227 - mean_squared_error: 0.6227 - val_loss: 0.6076 - val_mean_squared_error: 0.6076\n",
            "Epoch 75/150\n",
            "\u001b[1m77/77\u001b[0m \u001b[32m━━━━━━━━━━━━━━━━━━━━\u001b[0m\u001b[37m\u001b[0m \u001b[1m0s\u001b[0m 3ms/step - loss: 0.6217 - mean_squared_error: 0.6217 - val_loss: 0.6100 - val_mean_squared_error: 0.6100\n",
            "Epoch 76/150\n",
            "\u001b[1m77/77\u001b[0m \u001b[32m━━━━━━━━━━━━━━━━━━━━\u001b[0m\u001b[37m\u001b[0m \u001b[1m0s\u001b[0m 3ms/step - loss: 0.6205 - mean_squared_error: 0.6205 - val_loss: 0.6086 - val_mean_squared_error: 0.6086\n",
            "Epoch 77/150\n",
            "\u001b[1m77/77\u001b[0m \u001b[32m━━━━━━━━━━━━━━━━━━━━\u001b[0m\u001b[37m\u001b[0m \u001b[1m0s\u001b[0m 3ms/step - loss: 0.6171 - mean_squared_error: 0.6171 - val_loss: 0.6155 - val_mean_squared_error: 0.6155\n",
            "Epoch 78/150\n",
            "\u001b[1m77/77\u001b[0m \u001b[32m━━━━━━━━━━━━━━━━━━━━\u001b[0m\u001b[37m\u001b[0m \u001b[1m0s\u001b[0m 3ms/step - loss: 0.6197 - mean_squared_error: 0.6197 - val_loss: 0.6179 - val_mean_squared_error: 0.6179\n",
            "Epoch 79/150\n",
            "\u001b[1m77/77\u001b[0m \u001b[32m━━━━━━━━━━━━━━━━━━━━\u001b[0m\u001b[37m\u001b[0m \u001b[1m0s\u001b[0m 3ms/step - loss: 0.6192 - mean_squared_error: 0.6192 - val_loss: 0.6199 - val_mean_squared_error: 0.6199\n",
            "Epoch 80/150\n",
            "\u001b[1m77/77\u001b[0m \u001b[32m━━━━━━━━━━━━━━━━━━━━\u001b[0m\u001b[37m\u001b[0m \u001b[1m0s\u001b[0m 3ms/step - loss: 0.6186 - mean_squared_error: 0.6186 - val_loss: 0.6218 - val_mean_squared_error: 0.6218\n",
            "Epoch 81/150\n",
            "\u001b[1m77/77\u001b[0m \u001b[32m━━━━━━━━━━━━━━━━━━━━\u001b[0m\u001b[37m\u001b[0m \u001b[1m0s\u001b[0m 4ms/step - loss: 0.6179 - mean_squared_error: 0.6179 - val_loss: 0.6235 - val_mean_squared_error: 0.6235\n",
            "Epoch 82/150\n",
            "\u001b[1m77/77\u001b[0m \u001b[32m━━━━━━━━━━━━━━━━━━━━\u001b[0m\u001b[37m\u001b[0m \u001b[1m1s\u001b[0m 3ms/step - loss: 0.6172 - mean_squared_error: 0.6172 - val_loss: 0.6246 - val_mean_squared_error: 0.6246\n",
            "Epoch 83/150\n",
            "\u001b[1m77/77\u001b[0m \u001b[32m━━━━━━━━━━━━━━━━━━━━\u001b[0m\u001b[37m\u001b[0m \u001b[1m0s\u001b[0m 3ms/step - loss: 0.6163 - mean_squared_error: 0.6163 - val_loss: 0.6255 - val_mean_squared_error: 0.6255\n",
            "Epoch 84/150\n",
            "\u001b[1m77/77\u001b[0m \u001b[32m━━━━━━━━━━━━━━━━━━━━\u001b[0m\u001b[37m\u001b[0m \u001b[1m0s\u001b[0m 4ms/step - loss: 0.6154 - mean_squared_error: 0.6154 - val_loss: 0.6259 - val_mean_squared_error: 0.6259\n",
            "Epoch 85/150\n",
            "\u001b[1m77/77\u001b[0m \u001b[32m━━━━━━━━━━━━━━━━━━━━\u001b[0m\u001b[37m\u001b[0m \u001b[1m1s\u001b[0m 5ms/step - loss: 0.6145 - mean_squared_error: 0.6145 - val_loss: 0.6257 - val_mean_squared_error: 0.6257\n",
            "Epoch 86/150\n",
            "\u001b[1m77/77\u001b[0m \u001b[32m━━━━━━━━━━━━━━━━━━━━\u001b[0m\u001b[37m\u001b[0m \u001b[1m1s\u001b[0m 5ms/step - loss: 0.6133 - mean_squared_error: 0.6133 - val_loss: 0.6248 - val_mean_squared_error: 0.6248\n",
            "Epoch 87/150\n",
            "\u001b[1m77/77\u001b[0m \u001b[32m━━━━━━━━━━━━━━━━━━━━\u001b[0m\u001b[37m\u001b[0m \u001b[1m0s\u001b[0m 5ms/step - loss: 0.6121 - mean_squared_error: 0.6121 - val_loss: 0.6233 - val_mean_squared_error: 0.6233\n",
            "Epoch 88/150\n",
            "\u001b[1m77/77\u001b[0m \u001b[32m━━━━━━━━━━━━━━━━━━━━\u001b[0m\u001b[37m\u001b[0m \u001b[1m0s\u001b[0m 3ms/step - loss: 0.6108 - mean_squared_error: 0.6108 - val_loss: 0.6082 - val_mean_squared_error: 0.6082\n",
            "Epoch 89/150\n",
            "\u001b[1m77/77\u001b[0m \u001b[32m━━━━━━━━━━━━━━━━━━━━\u001b[0m\u001b[37m\u001b[0m \u001b[1m0s\u001b[0m 3ms/step - loss: 0.6055 - mean_squared_error: 0.6055 - val_loss: 0.6148 - val_mean_squared_error: 0.6148\n",
            "Epoch 90/150\n",
            "\u001b[1m77/77\u001b[0m \u001b[32m━━━━━━━━━━━━━━━━━━━━\u001b[0m\u001b[37m\u001b[0m \u001b[1m0s\u001b[0m 3ms/step - loss: 0.6080 - mean_squared_error: 0.6080 - val_loss: 0.6119 - val_mean_squared_error: 0.6119\n",
            "Epoch 91/150\n",
            "\u001b[1m77/77\u001b[0m \u001b[32m━━━━━━━━━━━━━━━━━━━━\u001b[0m\u001b[37m\u001b[0m \u001b[1m0s\u001b[0m 3ms/step - loss: 0.6067 - mean_squared_error: 0.6067 - val_loss: 0.6092 - val_mean_squared_error: 0.6092\n",
            "Epoch 92/150\n",
            "\u001b[1m77/77\u001b[0m \u001b[32m━━━━━━━━━━━━━━━━━━━━\u001b[0m\u001b[37m\u001b[0m \u001b[1m0s\u001b[0m 3ms/step - loss: 0.6053 - mean_squared_error: 0.6053 - val_loss: 0.6063 - val_mean_squared_error: 0.6063\n",
            "Epoch 93/150\n",
            "\u001b[1m77/77\u001b[0m \u001b[32m━━━━━━━━━━━━━━━━━━━━\u001b[0m\u001b[37m\u001b[0m \u001b[1m0s\u001b[0m 3ms/step - loss: 0.6038 - mean_squared_error: 0.6038 - val_loss: 0.6035 - val_mean_squared_error: 0.6035\n",
            "Epoch 94/150\n",
            "\u001b[1m77/77\u001b[0m \u001b[32m━━━━━━━━━━━━━━━━━━━━\u001b[0m\u001b[37m\u001b[0m \u001b[1m0s\u001b[0m 3ms/step - loss: 0.6023 - mean_squared_error: 0.6023 - val_loss: 0.6009 - val_mean_squared_error: 0.6009\n",
            "Epoch 95/150\n",
            "\u001b[1m77/77\u001b[0m \u001b[32m━━━━━━━━━━━━━━━━━━━━\u001b[0m\u001b[37m\u001b[0m \u001b[1m0s\u001b[0m 3ms/step - loss: 0.6009 - mean_squared_error: 0.6009 - val_loss: 0.5985 - val_mean_squared_error: 0.5985\n",
            "Epoch 96/150\n",
            "\u001b[1m77/77\u001b[0m \u001b[32m━━━━━━━━━━━━━━━━━━━━\u001b[0m\u001b[37m\u001b[0m \u001b[1m0s\u001b[0m 3ms/step - loss: 0.5996 - mean_squared_error: 0.5996 - val_loss: 0.5962 - val_mean_squared_error: 0.5962\n",
            "Epoch 97/150\n",
            "\u001b[1m77/77\u001b[0m \u001b[32m━━━━━━━━━━━━━━━━━━━━\u001b[0m\u001b[37m\u001b[0m \u001b[1m0s\u001b[0m 3ms/step - loss: 0.5984 - mean_squared_error: 0.5984 - val_loss: 0.5940 - val_mean_squared_error: 0.5940\n",
            "Epoch 98/150\n",
            "\u001b[1m77/77\u001b[0m \u001b[32m━━━━━━━━━━━━━━━━━━━━\u001b[0m\u001b[37m\u001b[0m \u001b[1m0s\u001b[0m 3ms/step - loss: 0.5972 - mean_squared_error: 0.5972 - val_loss: 0.5921 - val_mean_squared_error: 0.5921\n",
            "Epoch 99/150\n",
            "\u001b[1m77/77\u001b[0m \u001b[32m━━━━━━━━━━━━━━━━━━━━\u001b[0m\u001b[37m\u001b[0m \u001b[1m0s\u001b[0m 3ms/step - loss: 0.5961 - mean_squared_error: 0.5961 - val_loss: 0.5903 - val_mean_squared_error: 0.5903\n",
            "Epoch 100/150\n",
            "\u001b[1m77/77\u001b[0m \u001b[32m━━━━━━━━━━━━━━━━━━━━\u001b[0m\u001b[37m\u001b[0m \u001b[1m1s\u001b[0m 7ms/step - loss: 0.5950 - mean_squared_error: 0.5950 - val_loss: 0.5888 - val_mean_squared_error: 0.5888\n",
            "Epoch 101/150\n",
            "\u001b[1m77/77\u001b[0m \u001b[32m━━━━━━━━━━━━━━━━━━━━\u001b[0m\u001b[37m\u001b[0m \u001b[1m0s\u001b[0m 3ms/step - loss: 0.5941 - mean_squared_error: 0.5941 - val_loss: 0.5870 - val_mean_squared_error: 0.5870\n",
            "Epoch 102/150\n",
            "\u001b[1m77/77\u001b[0m \u001b[32m━━━━━━━━━━━━━━━━━━━━\u001b[0m\u001b[37m\u001b[0m \u001b[1m0s\u001b[0m 3ms/step - loss: 0.5930 - mean_squared_error: 0.5930 - val_loss: 0.5860 - val_mean_squared_error: 0.5860\n",
            "Epoch 103/150\n",
            "\u001b[1m77/77\u001b[0m \u001b[32m━━━━━━━━━━━━━━━━━━━━\u001b[0m\u001b[37m\u001b[0m \u001b[1m0s\u001b[0m 3ms/step - loss: 0.5923 - mean_squared_error: 0.5923 - val_loss: 0.5845 - val_mean_squared_error: 0.5845\n",
            "Epoch 104/150\n",
            "\u001b[1m77/77\u001b[0m \u001b[32m━━━━━━━━━━━━━━━━━━━━\u001b[0m\u001b[37m\u001b[0m \u001b[1m0s\u001b[0m 4ms/step - loss: 0.5915 - mean_squared_error: 0.5915 - val_loss: 0.5833 - val_mean_squared_error: 0.5833\n",
            "Epoch 105/150\n",
            "\u001b[1m77/77\u001b[0m \u001b[32m━━━━━━━━━━━━━━━━━━━━\u001b[0m\u001b[37m\u001b[0m \u001b[1m0s\u001b[0m 3ms/step - loss: 0.5907 - mean_squared_error: 0.5907 - val_loss: 0.5822 - val_mean_squared_error: 0.5822\n",
            "Epoch 106/150\n",
            "\u001b[1m77/77\u001b[0m \u001b[32m━━━━━━━━━━━━━━━━━━━━\u001b[0m\u001b[37m\u001b[0m \u001b[1m0s\u001b[0m 3ms/step - loss: 0.5899 - mean_squared_error: 0.5899 - val_loss: 0.5817 - val_mean_squared_error: 0.5817\n",
            "Epoch 107/150\n",
            "\u001b[1m77/77\u001b[0m \u001b[32m━━━━━━━━━━━━━━━━━━━━\u001b[0m\u001b[37m\u001b[0m \u001b[1m0s\u001b[0m 4ms/step - loss: 0.5894 - mean_squared_error: 0.5894 - val_loss: 0.5808 - val_mean_squared_error: 0.5808\n",
            "Epoch 108/150\n",
            "\u001b[1m77/77\u001b[0m \u001b[32m━━━━━━━━━━━━━━━━━━━━\u001b[0m\u001b[37m\u001b[0m \u001b[1m1s\u001b[0m 3ms/step - loss: 0.5889 - mean_squared_error: 0.5889 - val_loss: 0.5801 - val_mean_squared_error: 0.5801\n",
            "Epoch 109/150\n",
            "\u001b[1m77/77\u001b[0m \u001b[32m━━━━━━━━━━━━━━━━━━━━\u001b[0m\u001b[37m\u001b[0m \u001b[1m0s\u001b[0m 3ms/step - loss: 0.5882 - mean_squared_error: 0.5882 - val_loss: 0.5794 - val_mean_squared_error: 0.5794\n",
            "Epoch 110/150\n",
            "\u001b[1m77/77\u001b[0m \u001b[32m━━━━━━━━━━━━━━━━━━━━\u001b[0m\u001b[37m\u001b[0m \u001b[1m0s\u001b[0m 3ms/step - loss: 0.5877 - mean_squared_error: 0.5877 - val_loss: 0.5789 - val_mean_squared_error: 0.5789\n",
            "Epoch 111/150\n",
            "\u001b[1m77/77\u001b[0m \u001b[32m━━━━━━━━━━━━━━━━━━━━\u001b[0m\u001b[37m\u001b[0m \u001b[1m0s\u001b[0m 3ms/step - loss: 0.5872 - mean_squared_error: 0.5872 - val_loss: 0.5786 - val_mean_squared_error: 0.5786\n",
            "Epoch 112/150\n",
            "\u001b[1m77/77\u001b[0m \u001b[32m━━━━━━━━━━━━━━━━━━━━\u001b[0m\u001b[37m\u001b[0m \u001b[1m0s\u001b[0m 3ms/step - loss: 0.5867 - mean_squared_error: 0.5867 - val_loss: 0.5780 - val_mean_squared_error: 0.5780\n",
            "Epoch 113/150\n",
            "\u001b[1m77/77\u001b[0m \u001b[32m━━━━━━━━━━━━━━━━━━━━\u001b[0m\u001b[37m\u001b[0m \u001b[1m0s\u001b[0m 3ms/step - loss: 0.5860 - mean_squared_error: 0.5860 - val_loss: 0.5773 - val_mean_squared_error: 0.5773\n",
            "Epoch 114/150\n",
            "\u001b[1m77/77\u001b[0m \u001b[32m━━━━━━━━━━━━━━━━━━━━\u001b[0m\u001b[37m\u001b[0m \u001b[1m0s\u001b[0m 3ms/step - loss: 0.5855 - mean_squared_error: 0.5855 - val_loss: 0.5771 - val_mean_squared_error: 0.5771\n",
            "Epoch 115/150\n",
            "\u001b[1m77/77\u001b[0m \u001b[32m━━━━━━━━━━━━━━━━━━━━\u001b[0m\u001b[37m\u001b[0m \u001b[1m0s\u001b[0m 3ms/step - loss: 0.5849 - mean_squared_error: 0.5849 - val_loss: 0.5766 - val_mean_squared_error: 0.5766\n",
            "Epoch 116/150\n",
            "\u001b[1m77/77\u001b[0m \u001b[32m━━━━━━━━━━━━━━━━━━━━\u001b[0m\u001b[37m\u001b[0m \u001b[1m0s\u001b[0m 3ms/step - loss: 0.5844 - mean_squared_error: 0.5844 - val_loss: 0.5765 - val_mean_squared_error: 0.5765\n",
            "Epoch 117/150\n",
            "\u001b[1m77/77\u001b[0m \u001b[32m━━━━━━━━━━━━━━━━━━━━\u001b[0m\u001b[37m\u001b[0m \u001b[1m0s\u001b[0m 3ms/step - loss: 0.5840 - mean_squared_error: 0.5840 - val_loss: 0.5760 - val_mean_squared_error: 0.5760\n",
            "Epoch 118/150\n",
            "\u001b[1m77/77\u001b[0m \u001b[32m━━━━━━━━━━━━━━━━━━━━\u001b[0m\u001b[37m\u001b[0m \u001b[1m0s\u001b[0m 3ms/step - loss: 0.5835 - mean_squared_error: 0.5835 - val_loss: 0.5760 - val_mean_squared_error: 0.5760\n",
            "Epoch 119/150\n",
            "\u001b[1m77/77\u001b[0m \u001b[32m━━━━━━━━━━━━━━━━━━━━\u001b[0m\u001b[37m\u001b[0m \u001b[1m0s\u001b[0m 3ms/step - loss: 0.5832 - mean_squared_error: 0.5832 - val_loss: 0.5756 - val_mean_squared_error: 0.5756\n",
            "Epoch 120/150\n",
            "\u001b[1m77/77\u001b[0m \u001b[32m━━━━━━━━━━━━━━━━━━━━\u001b[0m\u001b[37m\u001b[0m \u001b[1m0s\u001b[0m 5ms/step - loss: 0.5828 - mean_squared_error: 0.5828 - val_loss: 0.5758 - val_mean_squared_error: 0.5758\n",
            "Epoch 121/150\n",
            "\u001b[1m77/77\u001b[0m \u001b[32m━━━━━━━━━━━━━━━━━━━━\u001b[0m\u001b[37m\u001b[0m \u001b[1m1s\u001b[0m 5ms/step - loss: 0.5825 - mean_squared_error: 0.5825 - val_loss: 0.5754 - val_mean_squared_error: 0.5754\n",
            "Epoch 122/150\n",
            "\u001b[1m77/77\u001b[0m \u001b[32m━━━━━━━━━━━━━━━━━━━━\u001b[0m\u001b[37m\u001b[0m \u001b[1m1s\u001b[0m 5ms/step - loss: 0.5822 - mean_squared_error: 0.5822 - val_loss: 0.5751 - val_mean_squared_error: 0.5751\n",
            "Epoch 123/150\n",
            "\u001b[1m77/77\u001b[0m \u001b[32m━━━━━━━━━━━━━━━━━━━━\u001b[0m\u001b[37m\u001b[0m \u001b[1m1s\u001b[0m 6ms/step - loss: 0.5818 - mean_squared_error: 0.5818 - val_loss: 0.5754 - val_mean_squared_error: 0.5754\n",
            "Epoch 124/150\n",
            "\u001b[1m77/77\u001b[0m \u001b[32m━━━━━━━━━━━━━━━━━━━━\u001b[0m\u001b[37m\u001b[0m \u001b[1m1s\u001b[0m 5ms/step - loss: 0.5815 - mean_squared_error: 0.5815 - val_loss: 0.5750 - val_mean_squared_error: 0.5750\n",
            "Epoch 125/150\n",
            "\u001b[1m77/77\u001b[0m \u001b[32m━━━━━━━━━━━━━━━━━━━━\u001b[0m\u001b[37m\u001b[0m \u001b[1m0s\u001b[0m 3ms/step - loss: 0.5811 - mean_squared_error: 0.5811 - val_loss: 0.5748 - val_mean_squared_error: 0.5748\n",
            "Epoch 126/150\n",
            "\u001b[1m77/77\u001b[0m \u001b[32m━━━━━━━━━━━━━━━━━━━━\u001b[0m\u001b[37m\u001b[0m \u001b[1m1s\u001b[0m 7ms/step - loss: 0.5809 - mean_squared_error: 0.5809 - val_loss: 0.5746 - val_mean_squared_error: 0.5746\n",
            "Epoch 127/150\n",
            "\u001b[1m77/77\u001b[0m \u001b[32m━━━━━━━━━━━━━━━━━━━━\u001b[0m\u001b[37m\u001b[0m \u001b[1m0s\u001b[0m 3ms/step - loss: 0.5805 - mean_squared_error: 0.5805 - val_loss: 0.5750 - val_mean_squared_error: 0.5750\n",
            "Epoch 128/150\n",
            "\u001b[1m77/77\u001b[0m \u001b[32m━━━━━━━━━━━━━━━━━━━━\u001b[0m\u001b[37m\u001b[0m \u001b[1m0s\u001b[0m 3ms/step - loss: 0.5803 - mean_squared_error: 0.5803 - val_loss: 0.5748 - val_mean_squared_error: 0.5748\n",
            "Epoch 129/150\n",
            "\u001b[1m77/77\u001b[0m \u001b[32m━━━━━━━━━━━━━━━━━━━━\u001b[0m\u001b[37m\u001b[0m \u001b[1m0s\u001b[0m 3ms/step - loss: 0.5800 - mean_squared_error: 0.5800 - val_loss: 0.5746 - val_mean_squared_error: 0.5746\n",
            "Epoch 130/150\n",
            "\u001b[1m77/77\u001b[0m \u001b[32m━━━━━━━━━━━━━━━━━━━━\u001b[0m\u001b[37m\u001b[0m \u001b[1m0s\u001b[0m 3ms/step - loss: 0.5797 - mean_squared_error: 0.5797 - val_loss: 0.5745 - val_mean_squared_error: 0.5745\n",
            "Epoch 131/150\n",
            "\u001b[1m77/77\u001b[0m \u001b[32m━━━━━━━━━━━━━━━━━━━━\u001b[0m\u001b[37m\u001b[0m \u001b[1m0s\u001b[0m 3ms/step - loss: 0.5794 - mean_squared_error: 0.5794 - val_loss: 0.5744 - val_mean_squared_error: 0.5744\n",
            "Epoch 132/150\n",
            "\u001b[1m77/77\u001b[0m \u001b[32m━━━━━━━━━━━━━━━━━━━━\u001b[0m\u001b[37m\u001b[0m \u001b[1m0s\u001b[0m 3ms/step - loss: 0.5792 - mean_squared_error: 0.5792 - val_loss: 0.5749 - val_mean_squared_error: 0.5749\n",
            "Epoch 133/150\n",
            "\u001b[1m77/77\u001b[0m \u001b[32m━━━━━━━━━━━━━━━━━━━━\u001b[0m\u001b[37m\u001b[0m \u001b[1m0s\u001b[0m 3ms/step - loss: 0.5790 - mean_squared_error: 0.5790 - val_loss: 0.5747 - val_mean_squared_error: 0.5747\n",
            "Epoch 134/150\n",
            "\u001b[1m77/77\u001b[0m \u001b[32m━━━━━━━━━━━━━━━━━━━━\u001b[0m\u001b[37m\u001b[0m \u001b[1m0s\u001b[0m 3ms/step - loss: 0.5788 - mean_squared_error: 0.5788 - val_loss: 0.5745 - val_mean_squared_error: 0.5745\n",
            "Epoch 135/150\n",
            "\u001b[1m77/77\u001b[0m \u001b[32m━━━━━━━━━━━━━━━━━━━━\u001b[0m\u001b[37m\u001b[0m \u001b[1m0s\u001b[0m 3ms/step - loss: 0.5785 - mean_squared_error: 0.5785 - val_loss: 0.5743 - val_mean_squared_error: 0.5743\n",
            "Epoch 136/150\n",
            "\u001b[1m77/77\u001b[0m \u001b[32m━━━━━━━━━━━━━━━━━━━━\u001b[0m\u001b[37m\u001b[0m \u001b[1m0s\u001b[0m 3ms/step - loss: 0.5783 - mean_squared_error: 0.5783 - val_loss: 0.5749 - val_mean_squared_error: 0.5749\n",
            "Epoch 137/150\n",
            "\u001b[1m77/77\u001b[0m \u001b[32m━━━━━━━━━━━━━━━━━━━━\u001b[0m\u001b[37m\u001b[0m \u001b[1m0s\u001b[0m 3ms/step - loss: 0.5782 - mean_squared_error: 0.5782 - val_loss: 0.5744 - val_mean_squared_error: 0.5744\n",
            "Epoch 138/150\n",
            "\u001b[1m77/77\u001b[0m \u001b[32m━━━━━━━━━━━━━━━━━━━━\u001b[0m\u001b[37m\u001b[0m \u001b[1m0s\u001b[0m 3ms/step - loss: 0.5779 - mean_squared_error: 0.5779 - val_loss: 0.5743 - val_mean_squared_error: 0.5743\n",
            "Epoch 139/150\n",
            "\u001b[1m77/77\u001b[0m \u001b[32m━━━━━━━━━━━━━━━━━━━━\u001b[0m\u001b[37m\u001b[0m \u001b[1m0s\u001b[0m 3ms/step - loss: 0.5777 - mean_squared_error: 0.5777 - val_loss: 0.5742 - val_mean_squared_error: 0.5742\n",
            "Epoch 140/150\n",
            "\u001b[1m77/77\u001b[0m \u001b[32m━━━━━━━━━━━━━━━━━━━━\u001b[0m\u001b[37m\u001b[0m \u001b[1m0s\u001b[0m 3ms/step - loss: 0.5775 - mean_squared_error: 0.5775 - val_loss: 0.5749 - val_mean_squared_error: 0.5749\n",
            "Epoch 141/150\n",
            "\u001b[1m77/77\u001b[0m \u001b[32m━━━━━━━━━━━━━━━━━━━━\u001b[0m\u001b[37m\u001b[0m \u001b[1m0s\u001b[0m 3ms/step - loss: 0.5774 - mean_squared_error: 0.5774 - val_loss: 0.5746 - val_mean_squared_error: 0.5746\n",
            "Epoch 142/150\n",
            "\u001b[1m77/77\u001b[0m \u001b[32m━━━━━━━━━━━━━━━━━━━━\u001b[0m\u001b[37m\u001b[0m \u001b[1m0s\u001b[0m 3ms/step - loss: 0.5773 - mean_squared_error: 0.5773 - val_loss: 0.5741 - val_mean_squared_error: 0.5741\n",
            "Epoch 143/150\n",
            "\u001b[1m77/77\u001b[0m \u001b[32m━━━━━━━━━━━━━━━━━━━━\u001b[0m\u001b[37m\u001b[0m \u001b[1m0s\u001b[0m 3ms/step - loss: 0.5769 - mean_squared_error: 0.5769 - val_loss: 0.5739 - val_mean_squared_error: 0.5739\n",
            "Epoch 144/150\n",
            "\u001b[1m77/77\u001b[0m \u001b[32m━━━━━━━━━━━━━━━━━━━━\u001b[0m\u001b[37m\u001b[0m \u001b[1m0s\u001b[0m 3ms/step - loss: 0.5766 - mean_squared_error: 0.5766 - val_loss: 0.5736 - val_mean_squared_error: 0.5736\n",
            "Epoch 145/150\n",
            "\u001b[1m77/77\u001b[0m \u001b[32m━━━━━━━━━━━━━━━━━━━━\u001b[0m\u001b[37m\u001b[0m \u001b[1m0s\u001b[0m 3ms/step - loss: 0.5763 - mean_squared_error: 0.5763 - val_loss: 0.5743 - val_mean_squared_error: 0.5743\n",
            "Epoch 146/150\n",
            "\u001b[1m77/77\u001b[0m \u001b[32m━━━━━━━━━━━━━━━━━━━━\u001b[0m\u001b[37m\u001b[0m \u001b[1m0s\u001b[0m 3ms/step - loss: 0.5762 - mean_squared_error: 0.5762 - val_loss: 0.5737 - val_mean_squared_error: 0.5737\n",
            "Epoch 147/150\n",
            "\u001b[1m77/77\u001b[0m \u001b[32m━━━━━━━━━━━━━━━━━━━━\u001b[0m\u001b[37m\u001b[0m \u001b[1m0s\u001b[0m 3ms/step - loss: 0.5759 - mean_squared_error: 0.5759 - val_loss: 0.5732 - val_mean_squared_error: 0.5732\n",
            "Epoch 148/150\n",
            "\u001b[1m77/77\u001b[0m \u001b[32m━━━━━━━━━━━━━━━━━━━━\u001b[0m\u001b[37m\u001b[0m \u001b[1m0s\u001b[0m 3ms/step - loss: 0.5757 - mean_squared_error: 0.5757 - val_loss: 0.5739 - val_mean_squared_error: 0.5739\n",
            "Epoch 149/150\n",
            "\u001b[1m77/77\u001b[0m \u001b[32m━━━━━━━━━━━━━━━━━━━━\u001b[0m\u001b[37m\u001b[0m \u001b[1m0s\u001b[0m 3ms/step - loss: 0.5757 - mean_squared_error: 0.5757 - val_loss: 0.5734 - val_mean_squared_error: 0.5734\n",
            "Epoch 150/150\n",
            "\u001b[1m77/77\u001b[0m \u001b[32m━━━━━━━━━━━━━━━━━━━━\u001b[0m\u001b[37m\u001b[0m \u001b[1m0s\u001b[0m 3ms/step - loss: 0.5755 - mean_squared_error: 0.5755 - val_loss: 0.5741 - val_mean_squared_error: 0.5741\n"
          ]
        }
      ]
    },
    {
      "cell_type": "markdown",
      "source": [
        "**Step 4:** Evaluate Model Performance"
      ],
      "metadata": {
        "id": "qCALi6p0qQI_"
      }
    },
    {
      "cell_type": "markdown",
      "source": [
        "**1-1-4:** Print the predicted values for the first two records of the entire dataset (i.e. the original dataset before splitting)"
      ],
      "metadata": {
        "id": "o8ZyTdkoqbuh"
      }
    },
    {
      "cell_type": "code",
      "source": [
        "predictions = model.predict(data.drop(columns=['quality']))\n",
        "print('Predicted values for the first two records:')\n",
        "print(predictions[:2])"
      ],
      "metadata": {
        "colab": {
          "base_uri": "https://localhost:8080/"
        },
        "id": "KvNSaZi6qrqr",
        "outputId": "27b0e189-9feb-4989-e2e3-4a4326b0bcef"
      },
      "execution_count": null,
      "outputs": [
        {
          "output_type": "stream",
          "name": "stdout",
          "text": [
            "\u001b[1m204/204\u001b[0m \u001b[32m━━━━━━━━━━━━━━━━━━━━\u001b[0m\u001b[37m\u001b[0m \u001b[1m0s\u001b[0m 1ms/step\n",
            "Predicted values for the first two records:\n",
            "[[5.4910645]\n",
            " [5.326361 ]]\n"
          ]
        }
      ]
    },
    {
      "cell_type": "markdown",
      "source": [
        "**1-1-5:** Print the model mse value from the last training epoch"
      ],
      "metadata": {
        "id": "9j9DxLI2q5T0"
      }
    },
    {
      "cell_type": "code",
      "source": [
        "mse=history.history['mean_squared_error'][-1]\n",
        "print('Model MSE value from the last training epoch:', mse)"
      ],
      "metadata": {
        "colab": {
          "base_uri": "https://localhost:8080/"
        },
        "id": "EPn6-2Jnbfuo",
        "outputId": "214ef760-b616-4a3a-a61d-b9eec11bd16e"
      },
      "execution_count": null,
      "outputs": [
        {
          "output_type": "stream",
          "name": "stdout",
          "text": [
            "Model MSE value from the last training epoch: 0.5571931004524231\n"
          ]
        }
      ]
    }
  ]
}